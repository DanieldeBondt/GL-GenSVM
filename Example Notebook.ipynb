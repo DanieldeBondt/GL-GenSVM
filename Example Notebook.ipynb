{
 "cells": [
  {
   "cell_type": "code",
   "execution_count": 8,
   "metadata": {},
   "outputs": [],
   "source": [
    "import numpy as np\n",
    "import matplotlib.pyplot as plt\n",
    "from My_GenSVM import My_GenSVM\n"
   ]
  },
  {
   "cell_type": "code",
   "execution_count": 9,
   "metadata": {},
   "outputs": [],
   "source": [
    "#loading own data\n",
    "data_name = \"breasttissue.csv\"\n",
    "data = np.loadtxt(data_name, delimiter=' ', skiprows=2)\n",
    "\n",
    "starting_V = np.loadtxt(\"startV.csv\", delimiter='\\t')\n",
    "\n",
    "x, y = np.hsplit(data, [-1])\n"
   ]
  },
  {
   "cell_type": "code",
   "execution_count": null,
   "metadata": {},
   "outputs": [],
   "source": [
    "# setting hyper parameters\n",
    "rho = \"unweighted\"\n",
    "lamb = 10**2\n",
    "kappa = 0\n",
    "p = 1\n",
    "epsilun = 10**-6\n",
    "max_iter = 10**10\n",
    "extension = True\n",
    "\n",
    "#training and running model\n",
    "SVM = My_GenSVM(x, y, rho=rho, lamb=lamb, kappa=kappa, epsilun=epsilun, p=p, description=data_name, extension=extension,\n",
    "                max_iter=max_iter, burn_in=51, seed=1212)\n",
    "SVM.print_model()\n",
    "solution = SVM.fit_im(starting_V, printing=False)\n",
    "optimal_v = solution[0]\n",
    "print(optimal_v)\n",
    "\n",
    "\n",
    "\n"
   ]
  },
  {
   "cell_type": "code",
   "execution_count": null,
   "metadata": {},
   "outputs": [],
   "source": []
  }
 ],
 "metadata": {
  "kernelspec": {
   "display_name": "Python 3",
   "language": "python",
   "name": "python3"
  },
  "language_info": {
   "codemirror_mode": {
    "name": "ipython",
    "version": 3
   },
   "file_extension": ".py",
   "mimetype": "text/x-python",
   "name": "python",
   "nbconvert_exporter": "python",
   "pygments_lexer": "ipython3",
   "version": "3.7.1"
  }
 },
 "nbformat": 4,
 "nbformat_minor": 2
}
